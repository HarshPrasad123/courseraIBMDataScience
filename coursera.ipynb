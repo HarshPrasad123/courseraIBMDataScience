{
 "cells": [
  {
   "cell_type": "markdown",
   "id": "a31f9b49-1ece-48d7-adda-675c8f23f43d",
   "metadata": {},
   "source": [
    "# Data Science Capstone Projectme\r\n"
   ]
  },
  {
   "cell_type": "markdown",
   "id": "693d54cc-cfa7-4b5c-b74b-77d6f8e1c2dc",
   "metadata": {},
   "source": [
    "\n",
    "## Introduction\n",
    "This notebook serves as the final assignment for the Data Science course, where we will demonstrate various data science concepts and tools.\n"
   ]
  },
  {
   "cell_type": "markdown",
   "id": "b6613b32-f0f2-4b3c-9fa7-fd1aba710bcc",
   "metadata": {},
   "source": [
    "\n",
    "## Data Science Languages\n",
    "- Python\n",
    "- R\n",
    "- SQL\n",
    "- Java\n",
    "- Julia\n",
    "\n"
   ]
  },
  {
   "cell_type": "markdown",
   "id": "ccda0346-70bb-4bce-a551-b519c378dc2b",
   "metadata": {},
   "source": [
    "\n",
    "## Data Science Libraries\n",
    "- Pandas\n",
    "- NumPy\n",
    "- Matplotlib\n",
    "- Scikit-learn\n",
    "- TensorFlow\n"
   ]
  },
  {
   "cell_type": "markdown",
   "id": "c3131b0b-477c-432a-8b72-0033d1b2e69a",
   "metadata": {},
   "source": [
    "\n",
    "## Data Science Tools\n",
    "| Tool             | Description                             |\n",
    "|------------------|-----------------------------------------|\n",
    "| Jupyter Notebook | Interactive environment for Python      |\n",
    "| RStudio          | IDE for R                               |\n",
    "| Apache Spark     | Cluster computing framework             |\n",
    "| Tableau          | Data visualization tool                 |\n",
    "| TensorFlow       | Deep learning framework                 |\n"
   ]
  },
  {
   "cell_type": "markdown",
   "id": "8aa29932-371d-41ae-867c-3d212e36631f",
   "metadata": {},
   "source": [
    "\n",
    "## Arithmetic Expression Examples\n",
    "Below are some examples of basic arithmetic expressions."
   ]
  },
  {
   "cell_type": "code",
   "execution_count": 4,
   "id": "8f0e72ba-4005-4df0-bb0b-4223430b6523",
   "metadata": {},
   "outputs": [
    {
     "data": {
      "text/plain": [
       "38"
      ]
     },
     "execution_count": 4,
     "metadata": {},
     "output_type": "execute_result"
    }
   ],
   "source": [
    "# Multiply and add numbers\n",
    "result = (5 * 7) + 3\n",
    "result\n"
   ]
  },
  {
   "cell_type": "code",
   "execution_count": 5,
   "id": "562b3a17-e3e0-4003-8722-beea67bec5ea",
   "metadata": {},
   "outputs": [
    {
     "data": {
      "text/plain": [
       "2.0"
      ]
     },
     "execution_count": 5,
     "metadata": {},
     "output_type": "execute_result"
    }
   ],
   "source": [
    "minutes = 120\n",
    "hours = minutes / 60\n",
    "hours"
   ]
  },
  {
   "cell_type": "markdown",
   "id": "c67f649d-2e23-483d-a54f-93e9b02415ff",
   "metadata": {},
   "source": [
    "## Objectives\n",
    "- Understand different data science languages\n",
    "- Familiarize with data science libraries\n",
    "- Practice arithmetic expressions\n",
    "- Demonstrate notebook sharing capabilities\n",
    "\n",
    "## Author\n",
    "Harsh Prasad\n",
    "\n"
   ]
  },
  {
   "cell_type": "markdown",
   "id": "9c158f9c-ab57-48b3-aa65-201dc75f500a",
   "metadata": {},
   "source": []
  }
 ],
 "metadata": {
  "kernelspec": {
   "display_name": "Python 3 (ipykernel)",
   "language": "python",
   "name": "python3"
  },
  "language_info": {
   "codemirror_mode": {
    "name": "ipython",
    "version": 3
   },
   "file_extension": ".py",
   "mimetype": "text/x-python",
   "name": "python",
   "nbconvert_exporter": "python",
   "pygments_lexer": "ipython3",
   "version": "3.11.7"
  }
 },
 "nbformat": 4,
 "nbformat_minor": 5
}
